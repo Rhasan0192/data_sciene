{
 "cells": [
  {
   "cell_type": "markdown",
   "metadata": {},
   "source": [
    "# with this dataset we will try to find out the common factors between the hotels of trip advisor which have great reviews and which have bad reviews."
   ]
  },
  {
   "cell_type": "code",
   "execution_count": 1,
   "metadata": {},
   "outputs": [
    {
     "data": {
      "text/html": [
       "<div>\n",
       "<style scoped>\n",
       "    .dataframe tbody tr th:only-of-type {\n",
       "        vertical-align: middle;\n",
       "    }\n",
       "\n",
       "    .dataframe tbody tr th {\n",
       "        vertical-align: top;\n",
       "    }\n",
       "\n",
       "    .dataframe thead th {\n",
       "        text-align: right;\n",
       "    }\n",
       "</style>\n",
       "<table border=\"1\" class=\"dataframe\">\n",
       "  <thead>\n",
       "    <tr style=\"text-align: right;\">\n",
       "      <th></th>\n",
       "      <th>Review</th>\n",
       "      <th>Rating</th>\n",
       "    </tr>\n",
       "  </thead>\n",
       "  <tbody>\n",
       "    <tr>\n",
       "      <td>0</td>\n",
       "      <td>nice hotel expensive parking got good deal sta...</td>\n",
       "      <td>4</td>\n",
       "    </tr>\n",
       "    <tr>\n",
       "      <td>1</td>\n",
       "      <td>ok nothing special charge diamond member hilto...</td>\n",
       "      <td>2</td>\n",
       "    </tr>\n",
       "    <tr>\n",
       "      <td>2</td>\n",
       "      <td>nice rooms not 4* experience hotel monaco seat...</td>\n",
       "      <td>3</td>\n",
       "    </tr>\n",
       "    <tr>\n",
       "      <td>3</td>\n",
       "      <td>unique, great stay, wonderful time hotel monac...</td>\n",
       "      <td>5</td>\n",
       "    </tr>\n",
       "    <tr>\n",
       "      <td>4</td>\n",
       "      <td>great stay great stay, went seahawk game aweso...</td>\n",
       "      <td>5</td>\n",
       "    </tr>\n",
       "  </tbody>\n",
       "</table>\n",
       "</div>"
      ],
      "text/plain": [
       "                                              Review  Rating\n",
       "0  nice hotel expensive parking got good deal sta...       4\n",
       "1  ok nothing special charge diamond member hilto...       2\n",
       "2  nice rooms not 4* experience hotel monaco seat...       3\n",
       "3  unique, great stay, wonderful time hotel monac...       5\n",
       "4  great stay great stay, went seahawk game aweso...       5"
      ]
     },
     "execution_count": 1,
     "metadata": {},
     "output_type": "execute_result"
    }
   ],
   "source": [
    "import pandas as pd\n",
    "from pandas import DataFrame\n",
    "#df = pd.read_csv (r'/Users/rokibhasan/OneDrive - Concordia University - Canada/trip_advisor_review_project/tripadvisor_hotel_reviews.csv')\n",
    "\n",
    "df = pd.read_csv (r'tripadvisor_hotel_reviews.csv')\n",
    "df.head()\n",
    "\n",
    "#print (df)"
   ]
  },
  {
   "cell_type": "code",
   "execution_count": 11,
   "metadata": {},
   "outputs": [
    {
     "data": {
      "image/png": "[encoded data removed]",
      "text/plain": [
       "<Figure size 432x288 with 1 Axes>"
      ]
     },
     "metadata": {
      "needs_background": "light"
     },
     "output_type": "display_data"
    },
    {
     "data": {
      "image/png": "[encoded data removed]",
      "text/plain": [
       "<Figure size 432x288 with 1 Axes>"
      ]
     },
     "metadata": {},
     "output_type": "display_data"
    }
   ],
   "source": [
    "#lets visualize data first\n",
    "ratings=list(df.Rating.unique())\n",
    "#print(ratings)\n",
    "rating_list=df.Rating.tolist()\n",
    "#print(rating_list[:5])\n",
    "count_list=[]\n",
    "for i in range (len(ratings)):\n",
    "                count=0\n",
    "                for j in range (len(rating_list)):\n",
    "                    if ratings[i]==rating_list[j]:\n",
    "                        count=count+1\n",
    "                count_list.append(count)\n",
    "#print(count_list)\n",
    "\n",
    "import matplotlib.pyplot as plt\n",
    "plt.bar(ratings,count_list)\n",
    "plt.xlabel(\"Rating\")\n",
    "plt.show()\n",
    "\n",
    "#lets convert into percentage\n",
    "summed_up=sum(count_list)\n",
    "p_list=[]\n",
    "for i in range (len(count_list)):\n",
    "    p_list.append((count_list[i]/summed_up)*100) \n",
    "plt.pie(p_list,labels=ratings,autopct='%1.1f%%',\n",
    "        shadow=True, startangle=90)\n",
    "plt.show()"
   ]
  },
  {
   "cell_type": "code",
   "execution_count": 3,
   "metadata": {},
   "outputs": [
    {
     "name": "stdout",
     "output_type": "stream",
     "text": [
      "<class 'list'>\n",
      "['unique', ' great stay', ' wonderful time hotel monaco', ' location excellent short stroll main downtown shopping area', ' pet friendly room showed no signs animal hair smells', ' monaco suite sleeping area big striped curtains pulled closed nice touch felt cosy', ' goldfish named brandi enjoyed', \" did n't partake free wine coffee/tea service lobby thought great feature\", ' great staff friendly', ' free wireless internet hotel worked suite 2 laptops', ' decor lovely eclectic mix pattens color palatte', ' animal print bathrobes feel like rock stars', \" nice did n't look like sterile chain hotel hotel personality excellent stay\", '  ', 'great stay great stay', ' went seahawk game awesome', \" downfall view building did n't complain\", ' room huge staff helpful', ' booked hotels website seahawk package', ' no charge parking got voucher taxi', \" problem taxi driver did n't want accept voucher barely spoke english\", ' funny thing speak arabic called started making comments girlfriend cell phone buddy', ' took second realize just said fact speak language face priceless', ' ass told', ' said large city', \" told head doorman issue called cab company promply answer did n't\", ' apologized offered pay taxi', ' bucks 2 miles stadium', ' game plan taxi return going humpin', \" great walk did n't mind\", ' right christmas wonderful lights', ' homeless stowed away building entrances leave', ' police presence not greatest area stadium', ' activities 7 blocks pike street waterfront great coffee shops way', ' hotel mantained foyer awesome', ' wine tasting available evening', ' best dog', ' taking st. bernard time family', ' safes hotel located service desk room', ' bathroom huge jetted tub huge', ' funny house keeping walked girlfriend getting dressed', \" did n't hear knock doing turn service\", ' screamed girlfriend screams hit floor laughing', ' started talking spanish worked', ' place recommend price', ' check online deals just good not better', \" besite contains deals vouchers travel websites n't tell\", '  ', 'love monaco staff husband stayed hotel crazy weekend attending memorial service best friend husband celebrating 12th wedding anniversary', ' talk mixed emotions', ' booked suite hotel monte carlos', ' loaned beautiful fan-tanned goldfish named joliet weekend visited dogs worked desk human companions', ' room decorated nicely couch used pillows', \" l'occitane bath amenities welcome sight\", ' room quiet peaceful', ' wireless internet access wonderful server went morning leaving problems printing boarding passes', ' afternoon reception serves oenophile-satisfying wine australia scrumptious cookies', ' restaurant closed renovation stay finally ate food good drinks better', \" word caution restaurant larger person not sit booths wo n't fit\", \" 5'6 125 lbs husband 5'9 175. table smack-against stomach couple inches space mighty uncomfortable patron larger pregnant\", ' bad design opinion place decorated funky welcoming way metal wood handblown glass light fixtures expect seattle capital glass art industry', ' definitely stay reason', '  ', 'cozy stay rainy city', ' husband spent 7 nights monaco early january 2008. business trip chance come ride.we booked monte carlo suite proved comfortable longish stay', ' room 905 located street building', ' street noise not problem view interesting rooms building look dank alley midsection large office building', ' suite comfortable plenty room spread', ' bathroom attractive squeaky clean small comparison generous proportions sitting sleeping areas', ' lots comfortable seating options good lighting plenty storage clothing luggage', ' hotel staff friendly efficient', ' housekeeping staff did great job pleasant', ' requests responded quickly.the location quite good', ' easy walk pike street market seattle art museum notch shopping dining options.a positive experience', '  ', 'hotel stayed hotel monaco cruise', ' rooms generous decorated uniquely', ' hotel remodeled pacific bell building charm sturdiness', ' everytime walked bell men felt like coming home', ' secure', ' great single travelers', ' location fabulous', ' walk things pike market space needle.little grocery/drug store block away', ' today green', ' bravo', ' 1 double bed room room bed couch separated curtain', ' snoring mom slept curtain', ' great food nearby', '  ', 'excellent stayed hotel monaco past w/e delight', ' reception staff friendly professional room smart comfortable bed', ' particularly liked reception small dog received staff guests spoke loved', ' mild negative distance uphill ppmarket restaurants 1st', ' overall great experience', '  ', 'fantastic stay monaco seattle hotel monaco holds high standards kimpton hotel line', ' having stayed kimpton hotels cities easily say seattle hotel monaco best seen', ' service attentive prompt', ' based member kimpton loyalty program upgraded 10th floor room great view 4th street excellent public library kitty-corner hotel', ' highly recommend tour public library blown away']\n"
     ]
    }
   ],
   "source": [
    "list_=df.values.tolist()\n",
    "list_of_good_hotels=[]\n",
    "\n",
    "for i in range(len(list_)):\n",
    "    if (list_[i][1])==5:\n",
    "        \n",
    "        list_of_good_hotels.append(list_[i][0])\n",
    "\n",
    "#print(len(list_of_good_hotels))\n",
    "test_list=[]\n",
    "for i in range (len(list_of_good_hotels)):\n",
    "    test_list.append(list_of_good_hotels[i].split(','))\n",
    "print((type(test_list[0])))\n",
    "merged_list=[]\n",
    "for i in range (len(test_list)):\n",
    "    merged_list+=test_list[i]\n",
    "    \n",
    "print((merged_list[0:100]))"
   ]
  },
  {
   "cell_type": "markdown",
   "metadata": {},
   "source": [
    "------------NLP starts------------"
   ]
  },
  {
   "cell_type": "code",
   "execution_count": 4,
   "metadata": {},
   "outputs": [
    {
     "name": "stdout",
     "output_type": "stream",
     "text": [
      "[' definitely stay', ' staff friendly helpful', ' highly recommended', ' highly recommend hotel', ' highly recommend', ' not disappointed', ' definately stay', ' staff helpful friendly', ' recommend hotel', ' location excellent', ' location perfect', ' service excellent', ' definitely return', ' definitely recommend hotel', ' beds comfortable', ' bed comfortable', ' hotel fantastic', ' highly recommend resort', ' great experience', ' staff pleasant helpful', ' staff extremely friendly helpful', ' not hesitate stay', ' staff nice helpful', 'great place stay', ' staff wonderful', 'great hotel great location', ' excellent hotel', 'great experience', ' great place stay', ' rooms spacious clean', ' room clean comfortable', \" ca n't wait return\", ' beach beautiful', ' hotel staff friendly helpful', ' super.what better salvator worked 3 days rs.the rooms service attention just unbeliveable.the sports bar fast food heaven ate', ' went specialty rest. mexican good.we went 2 tours- bavarro runners safari saona island tour', ' saona tour fun lonnnng time.both tours long rides worth time money.the rs thebeach pool rooms service people omg', \" ca n't wait till year\", ' overall great experience', ' walking distance', ' location not beat', ' definitely recommend', ' grounds beautiful', ' absolutely loved hotel']\n"
     ]
    }
   ],
   "source": [
    "import nltk\n",
    "from nltk.probability import FreqDist\n",
    "from nltk.collocations import *\n",
    "frequency_of_words=FreqDist(merged_list)\n",
    "most_common_list=frequency_of_words.most_common(150)\n",
    "\n",
    "desired_list=[]\n",
    "for i in range (len(most_common_list)):\n",
    "    if (len(most_common_list[i][0])>15):\n",
    "        desired_list.append(most_common_list[i][0])\n",
    "print(desired_list)"
   ]
  },
  {
   "cell_type": "code",
   "execution_count": 5,
   "metadata": {},
   "outputs": [],
   "source": [
    "#converting dataframes to list to get only the reviews with 1 stars\n",
    "#list_=df.values.tolist()\n",
    "list_of_bad_hotels=[]\n",
    "\n",
    "for i in range(len(list_)):\n",
    "    if (list_[i][1])==1:\n",
    "        \n",
    "        list_of_bad_hotels.append(list_[i][0])\n",
    "\n",
    "#print(len(list_of_good_hotels))\n",
    "test_1_list=[]\n",
    "#getting the sentences from the reviews\n",
    "for i in range (len(list_of_bad_hotels)):\n",
    "    test_1_list.append(list_of_bad_hotels[i].split(','))\n",
    "#print((type(test_list[0])))\n",
    "merged_1_list=[]\n",
    "#created a big list combining all the list to apply NLP\n",
    "for i in range (len(test_1_list)):\n",
    "    merged_1_list+=test_1_list[i]\n",
    "    \n",
    "#print((merged_1_list[0:100]))\n",
    "\n"
   ]
  },
  {
   "cell_type": "code",
   "execution_count": 6,
   "metadata": {},
   "outputs": [
    {
     "name": "stdout",
     "output_type": "stream",
     "text": [
      "[' not recommend hotel', ' worst hotel stayed', ' beach beautiful', 'terrible service', ' hotel walkable distance form airport took shuttle half hour pick', ' stood freezing cold late night waited waited waited', ' hotel shuttles came went time shuttle took ridiculously long time arrive called twice', ' holiday inn double tree just close looked just fine', ' check don__Ç_é_ waste money dump', 'worst hotel experience', \" n't waste time money\", 'horrible experience', ' terrible experience', ' food really terrible', 'horrible experience not stay', ' beds old uncomfortable', 'worst experience hotel', ' awful experience', ' not ocean bavaro', ' place complete dump', ' guest slept floor', ' thing going location', ' air conditioning inadequate', ' stay away means']\n"
     ]
    }
   ],
   "source": [
    "frequency_1_of_words=FreqDist(merged_1_list)\n",
    "most_1_common_list=frequency_1_of_words.most_common(150)\n",
    "\n",
    "desired_1_list=[]\n",
    "for i in range (len(most_1_common_list)):\n",
    "    if (len(most_1_common_list[i][0])>15):\n",
    "        desired_1_list.append(most_1_common_list[i][0])\n",
    "print(desired_1_list)"
   ]
  },
  {
   "cell_type": "markdown",
   "metadata": {},
   "source": [
    "# now the list is clear about the qulities a good or bad hotels have. \n"
   ]
  },
  {
   "cell_type": "code",
   "execution_count": 10,
   "metadata": {},
   "outputs": [
    {
     "name": "stdout",
     "output_type": "stream",
     "text": [
      "                 Attributes\n",
      "0    staff helpful friendly\n",
      "1          location perfect\n",
      "2         service excellent\n",
      "3           bed comfortable\n",
      "4          great experience\n",
      "5      rooms spacious clean\n",
      "6           beach beautiful\n",
      "7  rooms service people omg\n",
      "8          walking distance\n",
      "9         grounds beautiful\n"
     ]
    }
   ],
   "source": [
    "good_hotel_attributes=[' staff helpful friendly',' location perfect', ' service excellent',  ' bed comfortable',  ' great experience',  ' rooms spacious clean', ' beach beautiful', 'rooms service people omg',  ' walking distance',  ' grounds beautiful']\n",
    "#converting into dataframe\n",
    "from pandas import DataFrame\n",
    "list_df = DataFrame (good_hotel_attributes,columns=['Attributes'])\n",
    "print(list_df)\n"
   ]
  },
  {
   "cell_type": "code",
   "execution_count": null,
   "metadata": {},
   "outputs": [],
   "source": [
    "\n"
   ]
  },
  {
   "cell_type": "code",
   "execution_count": null,
   "metadata": {},
   "outputs": [],
   "source": []
  },
  {
   "cell_type": "code",
   "execution_count": null,
   "metadata": {},
   "outputs": [],
   "source": []
  }
 ],
 "metadata": {
  "kernelspec": {
   "display_name": "Python 3.7.4 64-bit ('base': conda)",
   "language": "python",
   "name": "python37464bitbaseconda4adb83c97fc1462a9d47f29c8ddacd67"
  },
  "language_info": {
   "codemirror_mode": {
    "name": "ipython",
    "version": 3
   },
   "file_extension": ".py",
   "mimetype": "text/x-python",
   "name": "python",
   "nbconvert_exporter": "python",
   "pygments_lexer": "ipython3",
   "version": "3.7.4"
  }
 },
 "nbformat": 4,
 "nbformat_minor": 2
}
